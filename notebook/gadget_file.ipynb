{
 "cells": [
  {
   "cell_type": "markdown",
   "metadata": {},
   "source": [
    "# Gadget file\n",
    "\n",
    "gadget_file.**open**(*filename*, *rescale_velocity*=True)<br/>&nbsp;&nbsp;&nbsp;&nbsp;&nbsp;&nbsp;\n",
    "Returns a `GadgetFile` object.\n",
    "<br/>&nbsp;&nbsp;&nbsp;&nbsp;&nbsp;&nbsp;\n",
    "`rescale_velocity`: rescales the square root factor the velocity in Gadget format.\n",
    "\n",
    "f.**header**<br/>&nbsp;&nbsp;&nbsp;&nbsp;&nbsp;&nbsp;\n",
    "    The file header as a dictionary<br/>&nbsp;&nbsp;&nbsp;&nbsp;&nbsp;&nbsp;\n",
    "    np (tuple): number of particles in this file for 5\n",
    "    particletypes<br/>&nbsp;&nbsp;&nbsp;&nbsp;&nbsp;&nbsp;\n",
    "    np_total (tuple): number of total particle in all files .0, .1, ...\n",
    "    <br/>&nbsp;&nbsp;&nbsp;&nbsp;&nbsp;&nbsp;\n",
    "    m (tuple): mass of particle [internal unit]\n",
    "    <br/>&nbsp;&nbsp;&nbsp;&nbsp;&nbsp;&nbsp;\n",
    "    a (float): scale factor\n",
    "    <br/>&nbsp;&nbsp;&nbsp;&nbsp;&nbsp;&nbsp;\n",
    "    redshift (float)\n",
    "    <br/>&nbsp;&nbsp;&nbsp;&nbsp;&nbsp;&nbsp;\n",
    "    nfiles (int): number of files for this snapshot\n",
    "    <br/>&nbsp;&nbsp;&nbsp;&nbsp;&nbsp;&nbsp;\n",
    "    boxsize (float): length of the cubic simulation box on a side [internal unit]\n",
    "    <br/>&nbsp;&nbsp;&nbsp;&nbsp;&nbsp;&nbsp;\n",
    "    omega_m (float): Omega matter at present\n",
    "    <br/>&nbsp;&nbsp;&nbsp;&nbsp;&nbsp;&nbsp;\n",
    "    omega_lambda (float): Omega Lambda at present\n",
    "    <br/>&nbsp;&nbsp;&nbsp;&nbsp;&nbsp;&nbsp;\n",
    "    h (float): Hubble constant in 100 km/s/Mpc\n",
    "\n",
    "f[**component**]<br/>&nbsp;&nbsp;&nbsp;&nbsp;&nbsp;&nbsp;\n",
    "    f['x'][:] (array): positions [internal unit]\n",
    "    <br/>&nbsp;&nbsp;&nbsp;&nbsp;&nbsp;&nbsp;\n",
    "    f['v'][:] (array): velocities [internal unit, $\\sqrt{a}$ factor corrected.]\n",
    "    <br/>&nbsp;&nbsp;&nbsp;&nbsp;&nbsp;&nbsp;\n",
    "    f['xv'][:] (array): positions and velocities\n",
    "\n",
    "* Assumes there is no gas (type 0) particles\n",
    "* Reads only type 1 particles\n"
   ]
  },
  {
   "cell_type": "code",
   "execution_count": null,
   "metadata": {},
   "outputs": [],
   "source": [
    "import lssps\n",
    "\n",
    "with lssps.gadget_file.open('../data/snp_008.0') as f:\n",
    "    header = f.header\n",
    "    x = f['x']\n",
    "    v = f['v']\n",
    "\n",
    "print('header', header)\n",
    "print('x', x)\n",
    "print('v', v)"
   ]
  },
  {
   "cell_type": "markdown",
   "metadata": {},
   "source": [
    "## Example\n",
    "Compute the redshift-space power spectrum from a Gadget simulation data.\n",
    "\n",
    "The redshift-space distortion is,\n",
    "$$\n",
    "s_3 = x_3 + \\frac{v_3}{a H(a)}\n",
    "$$\n",
    "where, $a$ is the scale factor and\n",
    "$$\n",
    "H(a) = 100 \\sqrt{\\Omega_{m, 0} a^{-3} + \\Omega_\\Lambda} \\quad [\\mathrm{km} \\,\\mathrm{s}^{-1} (h^{-1} \\mathrm{Mpc})^{-1}].\n",
    "$$"
   ]
  },
  {
   "cell_type": "code",
   "execution_count": 1,
   "metadata": {},
   "outputs": [
    {
     "data": {
      "image/png": "[encoded data removed]",
      "text/plain": [
       "<Figure size 432x288 with 2 Axes>"
      ]
     },
     "metadata": {
      "needs_background": "light"
     },
     "output_type": "display_data"
    }
   ],
   "source": [
    "%matplotlib inline\n",
    "import matplotlib.pyplot as plt\n",
    "import lssps\n",
    "\n",
    "nc = 64 # number of grid points per dim for density grid and FFT\n",
    "grid = None\n",
    "\n",
    "# The snapshot is split into 2 files.\n",
    "# Read particle and assign the number density to a grid\n",
    "for filename in ['../data/snp_008.0', '../data/snp_008.0']:\n",
    "    with lssps.gadget_file.open(filename) as f:\n",
    "        xv = f['xv']\n",
    "        a = f.header['a']\n",
    "        omega_m = f.header['omega_m']\n",
    "        boxsize = f.header['boxsize']\n",
    "    \n",
    "    # Redshift-space distortion\n",
    "    H = 100*lssps.cosmology.H_factor(omega_m, a=a)\n",
    "    fac = 1/(a*H)\n",
    "    xv[:, 2] += fac*xv[:, 5]\n",
    "    \n",
    "    if grid is None:\n",
    "        grid = lssps.grid.zeros(nc, boxsize)\n",
    "    \n",
    "    grid.assign_density(xv[:, 0:3])\n",
    "\n",
    "grid.compute_fluctuation()\n",
    "\n",
    "ps = lssps.power_spectrum.compute_plane_parallel(grid, line_of_sight=2)\n",
    "\n",
    "# Plot power spectrum monopole and quadrupole\n",
    "plt.figure()\n",
    "plt.subplot(1, 2, 1)\n",
    "plt.title('Monopole')\n",
    "plt.xlabel('$k$')\n",
    "plt.ylabel('$P$')\n",
    "plt.xscale('log')\n",
    "plt.yscale('log')\n",
    "plt.ylim(50, 2.0e4)\n",
    "plt.plot(ps.k, ps.P0, 'x')\n",
    "\n",
    "plt.subplot(1, 2, 2)\n",
    "plt.title('Quadrupole')\n",
    "plt.xlabel('$k$')\n",
    "plt.xscale('log')\n",
    "plt.yscale('log')\n",
    "plt.ylim(50, 2.0e4)\n",
    "plt.plot(ps.k, ps.P2, 'x', color='orange')\n",
    "plt.show()\n"
   ]
  },
  {
   "cell_type": "code",
   "execution_count": null,
   "metadata": {},
   "outputs": [],
   "source": []
  }
 ],
 "metadata": {
  "kernelspec": {
   "display_name": "Python 3",
   "language": "python",
   "name": "python3"
  },
  "language_info": {
   "codemirror_mode": {
    "name": "ipython",
    "version": 3
   },
   "file_extension": ".py",
   "mimetype": "text/x-python",
   "name": "python",
   "nbconvert_exporter": "python",
   "pygments_lexer": "ipython3",
   "version": "3.7.1"
  }
 },
 "nbformat": 4,
 "nbformat_minor": 2
}
