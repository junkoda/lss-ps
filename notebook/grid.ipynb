{
 "cells": [
  {
   "cell_type": "markdown",
   "metadata": {},
   "source": [
    "# Grid class"
   ]
  },
  {
   "cell_type": "markdown",
   "metadata": {},
   "source": [
    "## Atrributes\n",
    "\n",
    "grid.**nc**<br/>&nbsp;&nbsp;&nbsp;&nbsp;&nbsp;&nbsp;\n",
    "    $N_c$: Number of grid points per dimension.\n",
    "    \n",
    "    \n",
    "grid.**boxsize**<br/>&nbsp;&nbsp;&nbsp;&nbsp;&nbsp;&nbsp;\n",
    "    $L_{box}$: Length of the cubic box on a side\n",
    "    \n",
    "grid.**x0**<br/>&nbsp;&nbsp;&nbsp;&nbsp;&nbsp;&nbsp;\n",
    "    Coordinate of the corner of the box\n",
    "\n",
    "grid.**offset**<br/>&nbsp;&nbsp;&nbsp;&nbsp;&nbsp;&nbsp;\n",
    "    Position of the grid points in units of the grid spacing $(0 \\le \\mathrm{offset} < 1)$.\n",
    "    <br>&nbsp;&nbsp;&nbsp;&nbsp;&nbsp;&nbsp;\n",
    "    The coordinate of the grid points are $x0 + (i + \\mathrm{offset})\\Delta x$; $\\Delta x = \\textrm{boxsize}/\\textrm{nc}$ for integers $0 \\le i < \\mathrm{nc}$.\n",
    "    \n",
    "grid.**mode**<br/>&nbsp;&nbsp;&nbsp;&nbsp;&nbsp;&nbsp;\n",
    "    'real-space' or 'fourier-space'"
   ]
  },
  {
   "cell_type": "markdown",
   "metadata": {},
   "source": [
    "## Create a Grid object"
   ]
  },
  {
   "cell_type": "code",
   "execution_count": 1,
   "metadata": {},
   "outputs": [
    {
     "name": "stdout",
     "output_type": "stream",
     "text": [
      "<lssps.grid.Grid object at 0x10c9f2ba8>\n",
      "<lssps.grid.Grid object at 0x10cb759e8>\n",
      "grid.x0 = 0.0\n",
      "grid.shfted.x0 = -0.5\n"
     ]
    }
   ],
   "source": [
    "import lssps\n",
    "nc = 2 # number of grids per dimension\n",
    "boxsize = 100.0\n",
    "\n",
    "# zeros() create a grid set to zero\n",
    "grid = lssps.grid.zeros(nc, boxsize, x0=(0, 0, 0), interlacing=True)\n",
    "\n",
    "# This is equivalent to creating an uninitialised grid and clear it\n",
    "grid = lssps.grid.empty(nc, boxsize, x0=(0, 0, 0), interlacing=True)\n",
    "grid.clear()\n",
    "\n",
    "# A grid with same parameters shifted by 0.5 grid spacing is created\n",
    "# if interlacing=True.\n",
    "print(grid)\n",
    "print(grid.shifted) # shifted grid\n",
    "print('grid.x0 =', grid.offset)\n",
    "print('grid.shfted.x0 =', grid.shifted.offset)\n"
   ]
  },
  {
   "cell_type": "markdown",
   "metadata": {},
   "source": [
    "## Field values at grid points"
   ]
  },
  {
   "cell_type": "code",
   "execution_count": 2,
   "metadata": {},
   "outputs": [
    {
     "name": "stdout",
     "output_type": "stream",
     "text": [
      "grid[0, 0, 0] = 0.0\n",
      "grid[:].shape = (2, 2, 2)\n",
      "grid[0, 0, 0] => 1.0\n"
     ]
    }
   ],
   "source": [
    "# grid[:] is gives an np.array of discrete field defined grid points\n",
    "print('grid[0, 0, 0] =', grid[0, 0, 0])\n",
    "print('grid[:].shape =', grid[:].shape)\n",
    "\n",
    "# the value can be assigned\n",
    "grid[:] = np.ones((2, 2, 2))\n",
    "print('grid[0, 0, 0] =>', grid[0, 0, 0])"
   ]
  },
  {
   "cell_type": "markdown",
   "metadata": {},
   "source": [
    "## Fast Fourier Transform (FFT)\n",
    "\n",
    "The grid can be Fourier transformd to Fourier transform and inverse Fourier transformed back to real space. The grid shape is (nc, nc, nc) in real space, and (nc, nc, nc//2 + 1) in Fourier space."
   ]
  },
  {
   "cell_type": "code",
   "execution_count": 20,
   "metadata": {},
   "outputs": [
    {
     "name": "stdout",
     "output_type": "stream",
     "text": [
      "[1. 1. 1. 1.]\n",
      "real-space\n",
      "float64 (4, 4, 4)\n",
      "fourier-space\n",
      "complex128 (4, 4, 3)\n",
      "[64. 64. 64. 64.]\n"
     ]
    }
   ],
   "source": [
    "nc = 4\n",
    "grid = lssps.grid.zeros(nc, boxsize, x0=(0, 0, 0), interlacing=True)\n",
    "grid[:] = np.ones((nc, nc, nc))\n",
    "print(grid[0,0,:4])\n",
    "print(grid.mode)\n",
    "print(grid[:].dtype, grid[:].shape)\n",
    "\n",
    "grid.fft()\n",
    "\n",
    "print(grid.mode)\n",
    "print(grid[:].dtype, grid[:].shape)\n",
    "\n",
    "grid.fft_inverse()\n",
    "print(grid[0,0,:4])\n",
    "# Fourier transform and inverse Transform gives back nc**3 times the original"
   ]
  },
  {
   "cell_type": "markdown",
   "metadata": {},
   "source": [
    "## Mass assignment\n",
    "\n",
    "grid.**assign_density**(_xyz_, *, _weight_=None, _nbar_=None, _mas_='CIC')<br/>&nbsp;&nbsp;&nbsp;&nbsp;&nbsp;&nbsp;\n",
    "Assign number density to the grid.<br/>&nbsp;&nbsp;&nbsp;&nbsp;&nbsp;&nbsp;\n",
    "_xyz_ (array): Cartesian coordinate of the object. Must have 3 columns.<br/>&nbsp;&nbsp;&nbsp;&nbsp;&nbsp;&nbsp;\n",
    "_weight_ (array): weights of the object $w_i$. Default weight is 1 if this is set to None.\n",
    "<br/>&nbsp;&nbsp;&nbsp;&nbsp;&nbsp;&nbsp;\n",
    "_nbar_ (array): mean densities at object position $\\bar{n}_i$. Default value is 1 if this is set to None.\n",
    "<br/>&nbsp;&nbsp;&nbsp;&nbsp;&nbsp;&nbsp;\n",
    "_mas_ (str): mass assignment scheme 'NGP', 'CIC', or 'TSC'.\n",
    "\n",
    "&nbsp;&nbsp;&nbsp;&nbsp;&nbsp;&nbsp;\n",
    "The unit of the density is the number of weighted objectes per cell, $\\sum w_i$.\n",
    "\n",
    "&nbsp;&nbsp;&nbsp;&nbsp;&nbsp;&nbsp;\n",
    "This function does not clear the grid to zero before assigning the density.\n",
    "\n",
    "The mass assignment also updates the following statistics:\n",
    "\n",
    "grid.**w_sum**<br/>&nbsp;&nbsp;&nbsp;&nbsp;&nbsp;&nbsp;\n",
    "$ \\sum_i w_i $\n",
    "\n",
    "grid.**w2_sum**<br/>&nbsp;&nbsp;&nbsp;&nbsp;&nbsp;&nbsp;\n",
    "$ \\sum_i w_i^2 $\n",
    "\n",
    "grid.**nw2_sum**<br/>&nbsp;&nbsp;&nbsp;&nbsp;&nbsp;&nbsp;\n",
    "$ \\sum_i n_i w_i^2 $\n",
    "\n",
    "These sums are added to the values before mass assignment.\n",
    "\n",
    "grid.**clear()**<br/>&nbsp;&nbsp;&nbsp;&nbsp;&nbsp;&nbsp;\n",
    "reset the grid and its statistics to 0 and mode to 'real-space'"
   ]
  },
  {
   "cell_type": "markdown",
   "metadata": {},
   "source": [
    "## Fluctuation\n",
    "\n",
    "grid.**compute_fluctuation**(*grid_rand* = None)<br/>&nbsp;&nbsp;&nbsp;&nbsp;&nbsp;&nbsp;\n",
    "subtracts the random density field from the density grid $n$,\n",
    "$$ n(\\vec{x}) \\leftarrow F(\\vec{x}) =  n(\\vec{x}) - \\alpha n_{rand}(\\vec{x}) $$&nbsp;&nbsp;&nbsp;&nbsp;&nbsp;&nbsp;\n",
    "where,\n",
    "$\\alpha = \\sum_i w_i \\big/ \\sum_i w_{rand,i} = \\textrm{grid.w_sum} / \\textrm{grid_rand.w_sum}$\n",
    "\n",
    "This function also computes:\n",
    "\n",
    "grid.**pk_normalisation** = $1/\\mathcal{N}$\n",
    "$$ \\mathcal{N} = \\sum_{i} \\bar{n}_{rand, i} w_{rand, i}^2$$ \n",
    "\n",
    "grid.**shot_noise** = $\\mathcal{S}$\n",
    "$$ \\mathcal{S} = (1 + \\alpha) \\mathcal{N}^{-1} \\sum_{rand, i} w_{rand, i}^2$$\n",
    "\n",
    "These values are used when the power spectrum:\n",
    "\n",
    "$$ \\tilde{P}(\\vec{k}) = \\mathcal{N}^{-1} \\langle F(k) F(k)^* \\rangle - \\mathcal{S}$$"
   ]
  },
  {
   "cell_type": "markdown",
   "metadata": {},
   "source": [
    "### Fluctuation for homogenious data\n",
    "\n",
    "`grid_rand` can be None when the data is statistically homogeneous (simulation data in a periodic box). Power spectrum in a homogeneous box is defined as,\n",
    "\n",
    "$$ P(k) = \\frac{1}{V} \\langle \\delta(k) \\delta(k)^* \\rangle $$\n",
    "\n",
    "where, $V = \\textrm{boxsize}^3 $ is the volume of the box and\n",
    "Fourier transform,\n",
    "$$ \\delta(\\vec{k}) = \\int_V \\! d^3 x \\, \\delta(\\vec{x})  e^{-i\\vec{k}\\cdot\\vec{x}} $$\n",
    "\n",
    "This corresponds to\n",
    "$$ F(\\vec{x}) = n(\\vec{x}) - \\bar{n}, $$\n",
    "$$ \\quad \\bar{n} = \\sum_i w_i / N_c^3, $$\n",
    "$$ \\mathcal{N} = \\left( \\sum_i w_i \\right)^2 \\big/ V $$\n",
    "and the shot noise is\n",
    "$$ \\mathcal{S} = V \\frac{\\sum_i w_i^2}{(\\sum_i w)^2} = \\mathcal{N}^{-1} \\sum_i w_i^2$$"
   ]
  }
 ],
 "metadata": {
  "kernelspec": {
   "display_name": "Python 3",
   "language": "python",
   "name": "python3"
  },
  "language_info": {
   "codemirror_mode": {
    "name": "ipython",
    "version": 3
   },
   "file_extension": ".py",
   "mimetype": "text/x-python",
   "name": "python",
   "nbconvert_exporter": "python",
   "pygments_lexer": "ipython3",
   "version": "3.6.5"
  }
 },
 "nbformat": 4,
 "nbformat_minor": 2
}
