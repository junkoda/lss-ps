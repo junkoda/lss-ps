{
 "cells": [
  {
   "cell_type": "markdown",
   "metadata": {},
   "source": [
    "# PowerSpectrum class\n",
    "\n",
    "ps.**k**<br/>&nbsp;&nbsp;&nbsp;&nbsp;&nbsp;&nbsp;\n",
    "    wave number (array) [$h \\mathrm{Mpc}^{-1}$]: mean wave number within the bin\n",
    "\n",
    "ps.**P0**<br/>&nbsp;&nbsp;&nbsp;&nbsp;&nbsp;&nbsp;\n",
    "    monopole (array) [$(h^{-1} \\mathrm{Mpc})^{-3}$]\n",
    "  \n",
    "ps.**P2**<br/>&nbsp;&nbsp;&nbsp;&nbsp;&nbsp;&nbsp;\n",
    "    quadrupole (array) [$(h^{-1} \\mathrm{Mpc})^{-3}$]\n",
    "    \n",
    "ps.**P4**<br/>&nbsp;&nbsp;&nbsp;&nbsp;&nbsp;&nbsp;\n",
    "    hexadecapole (array) [$(h^{-1} \\mathrm{Mpc})^{-3}$]\n",
    "    \n",
    "ps.**nmodes**<br/>&nbsp;&nbsp;&nbsp;&nbsp;&nbsp;&nbsp;\n",
    "    number of independent modes (array)\n",
    "\n",
    "ps[*i*]<br/>&nbsp;&nbsp;&nbsp;&nbsp;&nbsp;&nbsp;\n",
    "    *i*th row of (k, P0, P2, P4, nmodes)\n",
    "\n",
    "**len**(ps)<br/>&nbsp;&nbsp;&nbsp;&nbsp;&nbsp;&nbsp;\n",
    "    number of k bins"
   ]
  },
  {
   "cell_type": "markdown",
   "metadata": {},
   "source": [
    "## Compute power spectrum multipoles\n",
    "\n",
    "Fluctuation field in `Grid` object is required.\n",
    "\n",
    "lssps.power_spectrum.**compute_plane_parallel**(grid, *,\n",
    "                           k_min=0.0, k_max=1.0, dk=0.01,\n",
    "                           subtract_shotnoise=True,\n",
    "                           correct_mas= True, line_of_sight=2)\n",
    "\n",
    "*grid* (Grid): Fluctuation field<br>\n",
    "*k_min* (float): minimum edge of k bins<br>\n",
    "*k_max* (float): maximum edge of k bins<br>\n",
    "*dk* (float): bin width<br>\n",
    "subtract_shotnoise (bool): subtract shot noise<br>\n",
    "correct_mas (bool): correct for themass assignment window function<br>\n",
    "line_of_sight (int): direction of the line-of-sight; 0, 1, 2 for x,y,z, respectively\n",
    "\n",
    "Returns: PowerSpectrum object\n",
    "\n",
    "$$ \\tilde{P}(\\vec{k}) = \\mathcal{N}^{-1} \\langle F(\\vec{k}) F(\\vec{k})^* \\rangle - \\mathcal{S} $$\n",
    "\n",
    "Uses the normalisation factor and the shot noise in the grid object,\n",
    "$$ \\mathcal{N}^{-1} = \\textrm{grid.pk_normalisation} $$\n",
    "$$ \\mathcal{S} = \\textrm{grid.shot_noise} $$"
   ]
  },
  {
   "cell_type": "markdown",
   "metadata": {},
   "source": [
    "### Yamamoto estimator\n",
    "\n",
    "lssps.power_spectrum.**compute_yamamoto**(grid, kind, *,\n",
    "                     k_min=0.0, k_max=1.0, dk=0.01,\n",
    "                     subtract_shotnoise=True,\n",
    "                     correct_mas=True,\n",
    "                     grid_moment=None, grid2=None, grid4=None)\n",
    "\n",
    "*grid* (Grid): Fluctuation field<br>\n",
    "*kind* (str): 'scoccimarro' or 'bianchi'<br>\n",
    "*k_min* (float): minimum edge of k bins<br>\n",
    "*k_max* (float): maximum edge of k bins<br>\n",
    "*dk* (float): bin width<br>\n",
    "subtract_shotnoise (bool): subtract shot noise<br>\n",
    "correct_mas (bool): correct for themass assignment window function<br>\n",
    "grid_moment (Grid): temporary grid for moment $Q_{ij\\dots}$<br>\n",
    "      grid2 (Grid): temporary grid for grid2<br>\n",
    "      grid4 (Grid): temporary grid for grid4<br>\n",
    "\n",
    "Grids, grid_moment, grid2, grid4 are automatically allocated if they are None.\n",
    "\n",
    "Returns: PowerSpectrum object"
   ]
  },
  {
   "cell_type": "code",
   "execution_count": null,
   "metadata": {},
   "outputs": [],
   "source": []
  }
 ],
 "metadata": {
  "kernelspec": {
   "display_name": "Python 3",
   "language": "python",
   "name": "python3"
  },
  "language_info": {
   "codemirror_mode": {
    "name": "ipython",
    "version": 3
   },
   "file_extension": ".py",
   "mimetype": "text/x-python",
   "name": "python",
   "nbconvert_exporter": "python",
   "pygments_lexer": "ipython3",
   "version": "3.6.5"
  }
 },
 "nbformat": 4,
 "nbformat_minor": 2
}
